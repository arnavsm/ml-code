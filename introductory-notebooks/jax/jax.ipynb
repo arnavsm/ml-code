{
  "nbformat": 4,
  "nbformat_minor": 0,
  "metadata": {
    "colab": {
      "provenance": [],
      "gpuType": "T4"
    },
    "kernelspec": {
      "name": "python3",
      "display_name": "Python 3"
    },
    "language_info": {
      "name": "python"
    },
    "accelerator": "GPU"
  },
  "cells": [
    {
      "cell_type": "markdown",
      "source": [
        "# Imports"
      ],
      "metadata": {
        "id": "V5OpfrAAzbmY"
      }
    },
    {
      "cell_type": "code",
      "execution_count": 5,
      "metadata": {
        "id": "MN_3_CDIzH5c"
      },
      "outputs": [],
      "source": [
        "import jax.numpy as jnp\n",
        "from jax import grad, jit, vmap, pmap\n",
        "from jax import random\n",
        "\n",
        "import numpy as np"
      ]
    },
    {
      "cell_type": "markdown",
      "source": [
        "# Our Function"
      ],
      "metadata": {
        "id": "XVsO_iQ7zfDe"
      }
    },
    {
      "cell_type": "code",
      "source": [
        "def fn(x):\n",
        "    return x + x*x + x*x*x + x*x*x*x"
      ],
      "metadata": {
        "id": "XXi4jkvWzdW2"
      },
      "execution_count": 6,
      "outputs": []
    },
    {
      "cell_type": "markdown",
      "source": [
        "# Initializing Our Arrays"
      ],
      "metadata": {
        "id": "oVI7C2chz8Fw"
      }
    },
    {
      "cell_type": "code",
      "source": [
        "x_np = np.random.rand(5000, 5000).astype(dtype = 'float32') # numpy array on cpu\n",
        "x_jnp = jnp.array(x_np) # numpy -> jax devicearray"
      ],
      "metadata": {
        "id": "NYJTDPhLz7Ky"
      },
      "execution_count": 7,
      "outputs": []
    },
    {
      "cell_type": "markdown",
      "source": [
        "# Experiment"
      ],
      "metadata": {
        "id": "A7kUVVUf0J-y"
      }
    },
    {
      "cell_type": "code",
      "source": [
        "%time fn(x_np)\n",
        "%time jit(fn)(x_jnp).block_until_ready()"
      ],
      "metadata": {
        "colab": {
          "base_uri": "https://localhost:8080/"
        },
        "id": "D41FI4bK0Llj",
        "outputId": "5d2ea38b-9e1a-4d19-9cc3-8a67d9348b97"
      },
      "execution_count": 8,
      "outputs": [
        {
          "output_type": "stream",
          "name": "stdout",
          "text": [
            "CPU times: user 143 ms, sys: 48.2 ms, total: 191 ms\n",
            "Wall time: 190 ms\n",
            "CPU times: user 22.8 ms, sys: 322 µs, total: 23.1 ms\n",
            "Wall time: 60.4 ms\n"
          ]
        },
        {
          "output_type": "execute_result",
          "data": {
            "text/plain": [
              "Array([[0.39421234, 0.1989656 , 1.8669676 , ..., 2.5010488 , 0.01845589,\n",
              "        1.3136544 ],\n",
              "       [0.7095988 , 0.96034914, 1.6792054 , ..., 1.6980314 , 0.17851524,\n",
              "        0.8277662 ],\n",
              "       [2.2748218 , 2.0695167 , 0.80362135, ..., 0.3577213 , 1.4701746 ,\n",
              "        0.43641242],\n",
              "       ...,\n",
              "       [1.7691748 , 0.15941522, 0.1081301 , ..., 1.8048664 , 0.08212976,\n",
              "        0.00521204],\n",
              "       [0.63506675, 3.564856  , 1.026365  , ..., 1.3875026 , 0.55864   ,\n",
              "        2.4715638 ],\n",
              "       [0.0499435 , 2.3713546 , 0.5997315 , ..., 0.7746921 , 3.2735748 ,\n",
              "        0.74696684]], dtype=float32)"
            ]
          },
          "metadata": {},
          "execution_count": 8
        }
      ]
    },
    {
      "cell_type": "code",
      "source": [],
      "metadata": {
        "id": "M32odXJ50hF1"
      },
      "execution_count": null,
      "outputs": []
    }
  ]
}