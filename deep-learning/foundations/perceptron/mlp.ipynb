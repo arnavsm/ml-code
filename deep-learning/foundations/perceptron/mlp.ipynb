{
  "cells": [
    {
      "cell_type": "markdown",
      "id": "06b98bcc",
      "metadata": {
        "id": "06b98bcc"
      },
      "source": [
        "# Multilayer Perceptron (MLP)"
      ]
    },
    {
      "cell_type": "markdown",
      "id": "7cb553b6",
      "metadata": {
        "id": "7cb553b6"
      },
      "source": [
        "A multi-layer perceptron (MLP) has the same structure of a single layer perceptron with one or more hidden layers. It is a neural network where the mapping between inputs and output is non-linear. The backpropagation algorithm consists of two phases: the forward phase where the activations are propagated from the input to the output layer, and the backward phase, where the error between the observed actual and the requested nominal value in the output layer is propagated backwards in order to modify the weights and bias values."
      ]
    },
    {
      "cell_type": "markdown",
      "id": "1d2989de",
      "metadata": {
        "id": "1d2989de"
      },
      "source": [
        "#### Load dataset"
      ]
    },
    {
      "cell_type": "code",
      "execution_count": 9,
      "id": "9258ba5e",
      "metadata": {
        "colab": {
          "base_uri": "https://localhost:8080/",
          "height": 206
        },
        "id": "9258ba5e",
        "outputId": "fc18062a-cb56-434e-f0f4-81e7dafaac98"
      },
      "outputs": [
        {
          "output_type": "execute_result",
          "data": {
            "text/plain": [
              "   satisfaction_level  last_evaluation  number_project  average_montly_hours  \\\n",
              "0                0.38             0.53               2                   157   \n",
              "1                0.80             0.86               5                   262   \n",
              "2                0.11             0.88               7                   272   \n",
              "3                0.72             0.87               5                   223   \n",
              "4                0.37             0.52               2                   159   \n",
              "\n",
              "   time_spend_company  Work_accident  left  promotion_last_5years  sales  \\\n",
              "0                   3              0     1                      0  sales   \n",
              "1                   6              0     1                      0  sales   \n",
              "2                   4              0     1                      0  sales   \n",
              "3                   5              0     1                      0  sales   \n",
              "4                   3              0     1                      0  sales   \n",
              "\n",
              "   salary  \n",
              "0     low  \n",
              "1  medium  \n",
              "2  medium  \n",
              "3     low  \n",
              "4     low  "
            ],
            "text/html": [
              "\n",
              "  <div id=\"df-27c641c0-cc8a-49a7-9773-83fdcc402ffa\">\n",
              "    <div class=\"colab-df-container\">\n",
              "      <div>\n",
              "<style scoped>\n",
              "    .dataframe tbody tr th:only-of-type {\n",
              "        vertical-align: middle;\n",
              "    }\n",
              "\n",
              "    .dataframe tbody tr th {\n",
              "        vertical-align: top;\n",
              "    }\n",
              "\n",
              "    .dataframe thead th {\n",
              "        text-align: right;\n",
              "    }\n",
              "</style>\n",
              "<table border=\"1\" class=\"dataframe\">\n",
              "  <thead>\n",
              "    <tr style=\"text-align: right;\">\n",
              "      <th></th>\n",
              "      <th>satisfaction_level</th>\n",
              "      <th>last_evaluation</th>\n",
              "      <th>number_project</th>\n",
              "      <th>average_montly_hours</th>\n",
              "      <th>time_spend_company</th>\n",
              "      <th>Work_accident</th>\n",
              "      <th>left</th>\n",
              "      <th>promotion_last_5years</th>\n",
              "      <th>sales</th>\n",
              "      <th>salary</th>\n",
              "    </tr>\n",
              "  </thead>\n",
              "  <tbody>\n",
              "    <tr>\n",
              "      <th>0</th>\n",
              "      <td>0.38</td>\n",
              "      <td>0.53</td>\n",
              "      <td>2</td>\n",
              "      <td>157</td>\n",
              "      <td>3</td>\n",
              "      <td>0</td>\n",
              "      <td>1</td>\n",
              "      <td>0</td>\n",
              "      <td>sales</td>\n",
              "      <td>low</td>\n",
              "    </tr>\n",
              "    <tr>\n",
              "      <th>1</th>\n",
              "      <td>0.80</td>\n",
              "      <td>0.86</td>\n",
              "      <td>5</td>\n",
              "      <td>262</td>\n",
              "      <td>6</td>\n",
              "      <td>0</td>\n",
              "      <td>1</td>\n",
              "      <td>0</td>\n",
              "      <td>sales</td>\n",
              "      <td>medium</td>\n",
              "    </tr>\n",
              "    <tr>\n",
              "      <th>2</th>\n",
              "      <td>0.11</td>\n",
              "      <td>0.88</td>\n",
              "      <td>7</td>\n",
              "      <td>272</td>\n",
              "      <td>4</td>\n",
              "      <td>0</td>\n",
              "      <td>1</td>\n",
              "      <td>0</td>\n",
              "      <td>sales</td>\n",
              "      <td>medium</td>\n",
              "    </tr>\n",
              "    <tr>\n",
              "      <th>3</th>\n",
              "      <td>0.72</td>\n",
              "      <td>0.87</td>\n",
              "      <td>5</td>\n",
              "      <td>223</td>\n",
              "      <td>5</td>\n",
              "      <td>0</td>\n",
              "      <td>1</td>\n",
              "      <td>0</td>\n",
              "      <td>sales</td>\n",
              "      <td>low</td>\n",
              "    </tr>\n",
              "    <tr>\n",
              "      <th>4</th>\n",
              "      <td>0.37</td>\n",
              "      <td>0.52</td>\n",
              "      <td>2</td>\n",
              "      <td>159</td>\n",
              "      <td>3</td>\n",
              "      <td>0</td>\n",
              "      <td>1</td>\n",
              "      <td>0</td>\n",
              "      <td>sales</td>\n",
              "      <td>low</td>\n",
              "    </tr>\n",
              "  </tbody>\n",
              "</table>\n",
              "</div>\n",
              "      <button class=\"colab-df-convert\" onclick=\"convertToInteractive('df-27c641c0-cc8a-49a7-9773-83fdcc402ffa')\"\n",
              "              title=\"Convert this dataframe to an interactive table.\"\n",
              "              style=\"display:none;\">\n",
              "        \n",
              "  <svg xmlns=\"http://www.w3.org/2000/svg\" height=\"24px\"viewBox=\"0 0 24 24\"\n",
              "       width=\"24px\">\n",
              "    <path d=\"M0 0h24v24H0V0z\" fill=\"none\"/>\n",
              "    <path d=\"M18.56 5.44l.94 2.06.94-2.06 2.06-.94-2.06-.94-.94-2.06-.94 2.06-2.06.94zm-11 1L8.5 8.5l.94-2.06 2.06-.94-2.06-.94L8.5 2.5l-.94 2.06-2.06.94zm10 10l.94 2.06.94-2.06 2.06-.94-2.06-.94-.94-2.06-.94 2.06-2.06.94z\"/><path d=\"M17.41 7.96l-1.37-1.37c-.4-.4-.92-.59-1.43-.59-.52 0-1.04.2-1.43.59L10.3 9.45l-7.72 7.72c-.78.78-.78 2.05 0 2.83L4 21.41c.39.39.9.59 1.41.59.51 0 1.02-.2 1.41-.59l7.78-7.78 2.81-2.81c.8-.78.8-2.07 0-2.86zM5.41 20L4 18.59l7.72-7.72 1.47 1.35L5.41 20z\"/>\n",
              "  </svg>\n",
              "      </button>\n",
              "      \n",
              "  <style>\n",
              "    .colab-df-container {\n",
              "      display:flex;\n",
              "      flex-wrap:wrap;\n",
              "      gap: 12px;\n",
              "    }\n",
              "\n",
              "    .colab-df-convert {\n",
              "      background-color: #E8F0FE;\n",
              "      border: none;\n",
              "      border-radius: 50%;\n",
              "      cursor: pointer;\n",
              "      display: none;\n",
              "      fill: #1967D2;\n",
              "      height: 32px;\n",
              "      padding: 0 0 0 0;\n",
              "      width: 32px;\n",
              "    }\n",
              "\n",
              "    .colab-df-convert:hover {\n",
              "      background-color: #E2EBFA;\n",
              "      box-shadow: 0px 1px 2px rgba(60, 64, 67, 0.3), 0px 1px 3px 1px rgba(60, 64, 67, 0.15);\n",
              "      fill: #174EA6;\n",
              "    }\n",
              "\n",
              "    [theme=dark] .colab-df-convert {\n",
              "      background-color: #3B4455;\n",
              "      fill: #D2E3FC;\n",
              "    }\n",
              "\n",
              "    [theme=dark] .colab-df-convert:hover {\n",
              "      background-color: #434B5C;\n",
              "      box-shadow: 0px 1px 3px 1px rgba(0, 0, 0, 0.15);\n",
              "      filter: drop-shadow(0px 1px 2px rgba(0, 0, 0, 0.3));\n",
              "      fill: #FFFFFF;\n",
              "    }\n",
              "  </style>\n",
              "\n",
              "      <script>\n",
              "        const buttonEl =\n",
              "          document.querySelector('#df-27c641c0-cc8a-49a7-9773-83fdcc402ffa button.colab-df-convert');\n",
              "        buttonEl.style.display =\n",
              "          google.colab.kernel.accessAllowed ? 'block' : 'none';\n",
              "\n",
              "        async function convertToInteractive(key) {\n",
              "          const element = document.querySelector('#df-27c641c0-cc8a-49a7-9773-83fdcc402ffa');\n",
              "          const dataTable =\n",
              "            await google.colab.kernel.invokeFunction('convertToInteractive',\n",
              "                                                     [key], {});\n",
              "          if (!dataTable) return;\n",
              "\n",
              "          const docLinkHtml = 'Like what you see? Visit the ' +\n",
              "            '<a target=\"_blank\" href=https://colab.research.google.com/notebooks/data_table.ipynb>data table notebook</a>'\n",
              "            + ' to learn more about interactive tables.';\n",
              "          element.innerHTML = '';\n",
              "          dataTable['output_type'] = 'display_data';\n",
              "          await google.colab.output.renderOutput(dataTable, element);\n",
              "          const docLink = document.createElement('div');\n",
              "          docLink.innerHTML = docLinkHtml;\n",
              "          element.appendChild(docLink);\n",
              "        }\n",
              "      </script>\n",
              "    </div>\n",
              "  </div>\n",
              "  "
            ]
          },
          "metadata": {},
          "execution_count": 9
        }
      ],
      "source": [
        "import numpy as np\n",
        "import pandas as pd\n",
        "\n",
        "# Load data\n",
        "data=pd.read_csv('HR_comma_sep.csv')\n",
        "\n",
        "data.head()"
      ]
    },
    {
      "cell_type": "markdown",
      "id": "7640ce9d",
      "metadata": {
        "id": "7640ce9d"
      },
      "source": [
        "#### Preprocessing: Label Encoding"
      ]
    },
    {
      "cell_type": "code",
      "execution_count": 10,
      "id": "d0bc30fa",
      "metadata": {
        "id": "d0bc30fa"
      },
      "outputs": [],
      "source": [
        "# Import LabelEncoder\n",
        "from sklearn import preprocessing\n",
        "\n",
        "# Creating labelEncoder\n",
        "le = preprocessing.LabelEncoder()\n",
        "\n",
        "# Converting string labels into numbers.\n",
        "data['salary']=le.fit_transform(data['salary'])\n"
      ]
    },
    {
      "cell_type": "markdown",
      "id": "98cf65fe",
      "metadata": {
        "id": "98cf65fe"
      },
      "source": [
        "#### Split the dataset"
      ]
    },
    {
      "cell_type": "code",
      "execution_count": 11,
      "id": "9a59c774",
      "metadata": {
        "id": "9a59c774"
      },
      "outputs": [],
      "source": [
        "# Spliting data into Feature and\n",
        "X=data[['satisfaction_level', 'last_evaluation', 'number_project',\n",
        "        'average_montly_hours', 'time_spend_company', 'Work_accident',\n",
        "        'promotion_last_5years','salary']]\n",
        "y=data['left']\n",
        "\n",
        "# Import train_test_split function\n",
        "from sklearn.model_selection import train_test_split\n",
        "\n",
        "# Split dataset into training set and test set\n",
        "X_train, X_test, y_train, y_test = train_test_split(X, y, test_size=0.3, random_state=42)  # 70% training and 30% test"
      ]
    },
    {
      "cell_type": "markdown",
      "id": "1d061555",
      "metadata": {
        "id": "1d061555"
      },
      "source": [
        "#### Build Classification Model\n",
        "First, import the MLPClassifier module and create MLP Classifier object using MLPClassifier() function. Then, fit your model on the train set using fit() and perform prediction on the test set using predict().\n",
        "\n",
        "##### Parameters:\n",
        "- hidden_layer_sizes: it is a tuple where each element represents one layer and its value represents the number of neurons on each hidden layer.\n",
        "- learning_rate_init: It used to controls the step-size in updating the weights.\n",
        "- activation: Activation function for the hidden layer. Examples, identity, logistic, tanh, and relu. by default, relu is used as an activation function.\n",
        "- random_state: It defines the random number for weights and bias initialization. \n",
        "- verbose: It used to print progress messages to standard output."
      ]
    },
    {
      "cell_type": "code",
      "execution_count": 12,
      "id": "3ca8a46b",
      "metadata": {
        "colab": {
          "base_uri": "https://localhost:8080/"
        },
        "id": "3ca8a46b",
        "outputId": "37023438-f1ee-4f7f-acd4-fb2e22b61042"
      },
      "outputs": [
        {
          "output_type": "stream",
          "name": "stdout",
          "text": [
            "Iteration 1, loss = 0.58375699\n",
            "Iteration 2, loss = 0.55089476\n",
            "Iteration 3, loss = 0.53811793\n",
            "Iteration 4, loss = 0.51521772\n",
            "Iteration 5, loss = 0.50091513\n",
            "Iteration 6, loss = 0.50279914\n",
            "Iteration 7, loss = 0.47967376\n",
            "Iteration 8, loss = 0.48207220\n",
            "Iteration 9, loss = 0.48021354\n",
            "Iteration 10, loss = 0.47412735\n",
            "Iteration 11, loss = 0.47203837\n",
            "Iteration 12, loss = 0.46928072\n",
            "Iteration 13, loss = 0.45686180\n",
            "Iteration 14, loss = 0.45709884\n",
            "Iteration 15, loss = 0.45132223\n",
            "Iteration 16, loss = 0.46630415\n",
            "Iteration 17, loss = 0.45162435\n",
            "Iteration 18, loss = 0.46152781\n",
            "Iteration 19, loss = 0.45317280\n",
            "Iteration 20, loss = 0.45251283\n",
            "Iteration 21, loss = 0.46049935\n",
            "Iteration 22, loss = 0.45274210\n",
            "Iteration 23, loss = 0.45780399\n",
            "Iteration 24, loss = 0.45557925\n",
            "Iteration 25, loss = 0.45298486\n",
            "Iteration 26, loss = 0.44800479\n",
            "Iteration 27, loss = 0.44150279\n",
            "Iteration 28, loss = 0.43542267\n",
            "Iteration 29, loss = 0.42998854\n",
            "Iteration 30, loss = 0.45012144\n",
            "Iteration 31, loss = 0.43029912\n",
            "Iteration 32, loss = 0.43634880\n",
            "Iteration 33, loss = 0.40753539\n",
            "Iteration 34, loss = 0.38134546\n",
            "Iteration 35, loss = 0.37172246\n",
            "Iteration 36, loss = 0.31251239\n",
            "Iteration 37, loss = 0.28918613\n",
            "Iteration 38, loss = 0.28283210\n",
            "Iteration 39, loss = 0.27833283\n",
            "Iteration 40, loss = 0.27272805\n",
            "Iteration 41, loss = 0.27923282\n",
            "Iteration 42, loss = 0.26109321\n",
            "Iteration 43, loss = 0.26094732\n",
            "Iteration 44, loss = 0.27726581\n",
            "Iteration 45, loss = 0.27587586\n",
            "Iteration 46, loss = 0.26246829\n",
            "Iteration 47, loss = 0.25809416\n",
            "Iteration 48, loss = 0.25485387\n",
            "Iteration 49, loss = 0.26039751\n",
            "Iteration 50, loss = 0.25603374\n",
            "Iteration 51, loss = 0.25442411\n",
            "Iteration 52, loss = 0.26750719\n",
            "Iteration 53, loss = 0.25383941\n",
            "Iteration 54, loss = 0.26890198\n",
            "Iteration 55, loss = 0.25243726\n",
            "Iteration 56, loss = 0.24835140\n",
            "Iteration 57, loss = 0.25112074\n",
            "Iteration 58, loss = 0.26393526\n",
            "Iteration 59, loss = 0.24959074\n",
            "Iteration 60, loss = 0.24945577\n",
            "Iteration 61, loss = 0.25030818\n",
            "Iteration 62, loss = 0.24482235\n",
            "Iteration 63, loss = 0.24760731\n",
            "Iteration 64, loss = 0.24232444\n",
            "Iteration 65, loss = 0.25120470\n",
            "Iteration 66, loss = 0.23956221\n",
            "Iteration 67, loss = 0.24070583\n",
            "Iteration 68, loss = 0.24001137\n",
            "Iteration 69, loss = 0.24213452\n",
            "Iteration 70, loss = 0.24363731\n",
            "Iteration 71, loss = 0.24133572\n",
            "Iteration 72, loss = 0.24019882\n",
            "Iteration 73, loss = 0.25667863\n",
            "Iteration 74, loss = 0.24141876\n",
            "Iteration 75, loss = 0.24045123\n",
            "Iteration 76, loss = 0.24324913\n",
            "Iteration 77, loss = 0.24052475\n",
            "Training loss did not improve more than tol=0.000100 for 10 consecutive epochs. Stopping.\n"
          ]
        },
        {
          "output_type": "execute_result",
          "data": {
            "text/plain": [
              "MLPClassifier(hidden_layer_sizes=(6, 5), learning_rate_init=0.01,\n",
              "              random_state=5, verbose=True)"
            ]
          },
          "metadata": {},
          "execution_count": 12
        }
      ],
      "source": [
        "# Import MLPClassifer \n",
        "from sklearn.neural_network import MLPClassifier\n",
        "\n",
        "# Create model object\n",
        "clf = MLPClassifier(hidden_layer_sizes=(6,5),\n",
        "                    random_state=5,\n",
        "                    verbose=True,\n",
        "                    learning_rate_init=0.01)\n",
        "\n",
        "# Fit data onto the model\n",
        "clf.fit(X_train,y_train)"
      ]
    },
    {
      "cell_type": "markdown",
      "id": "75e8909d",
      "metadata": {
        "id": "75e8909d"
      },
      "source": [
        "#### Make Prediction and Evaluate the Model"
      ]
    },
    {
      "cell_type": "code",
      "execution_count": 13,
      "id": "4edea911",
      "metadata": {
        "colab": {
          "base_uri": "https://localhost:8080/"
        },
        "id": "4edea911",
        "outputId": "7ae48cb5-3ca9-4baa-9bf2-a20cd5c6eb04"
      },
      "outputs": [
        {
          "output_type": "execute_result",
          "data": {
            "text/plain": [
              "0.9148888888888889"
            ]
          },
          "metadata": {},
          "execution_count": 13
        }
      ],
      "source": [
        "# Make prediction on test dataset\n",
        "ypred=clf.predict(X_test)\n",
        "\n",
        "# Import accuracy score \n",
        "from sklearn.metrics import accuracy_score\n",
        "\n",
        "# Calcuate accuracy\n",
        "accuracy_score(y_test,ypred)"
      ]
    },
    {
      "cell_type": "markdown",
      "id": "acb0f23d",
      "metadata": {
        "id": "acb0f23d"
      },
      "source": [
        "### Using the TensorFlow library"
      ]
    },
    {
      "cell_type": "code",
      "execution_count": 14,
      "id": "0df04ffc",
      "metadata": {
        "id": "0df04ffc"
      },
      "outputs": [],
      "source": [
        "# importing modules\n",
        "import tensorflow as tf\n",
        "import numpy as np\n",
        "from tensorflow.keras.models import Sequential\n",
        "from tensorflow.keras.layers import Flatten\n",
        "from tensorflow.keras.layers import Dense\n",
        "from tensorflow.keras.layers import Activation\n",
        "import matplotlib.pyplot as plt\n"
      ]
    },
    {
      "cell_type": "code",
      "execution_count": 44,
      "id": "c73381cc",
      "metadata": {
        "colab": {
          "base_uri": "https://localhost:8080/"
        },
        "id": "c73381cc",
        "outputId": "2461286d-b00b-4bf8-9f7a-3d2e613fe75c"
      },
      "outputs": [
        {
          "output_type": "stream",
          "name": "stdout",
          "text": [
            "Downloading data from https://storage.googleapis.com/tensorflow/tf-keras-datasets/mnist.npz\n",
            "11490434/11490434 [==============================] - 0s 0us/step\n"
          ]
        }
      ],
      "source": [
        "# Download the dataset\n",
        "(x_train, y_train), (x_test, y_test) = tf.keras.datasets.mnist.load_data()"
      ]
    },
    {
      "cell_type": "code",
      "execution_count": 45,
      "id": "35fb39e3",
      "metadata": {
        "id": "35fb39e3"
      },
      "outputs": [],
      "source": [
        "# Cast the records into float values\n",
        "x_train = x_train.astype('float32')\n",
        "x_test = x_test.astype('float32')\n",
        "\n",
        "# normalize image pixel values by dividing by 255\n",
        "x_train = x_train / 255.\n",
        "x_test = x_test / 255.\n"
      ]
    },
    {
      "cell_type": "code",
      "execution_count": 46,
      "id": "97ce1d41",
      "metadata": {
        "colab": {
          "base_uri": "https://localhost:8080/"
        },
        "id": "97ce1d41",
        "outputId": "b1a52683-b78f-476e-86f2-0bb0563f3b96"
      },
      "outputs": [
        {
          "output_type": "stream",
          "name": "stdout",
          "text": [
            "Feature matrix: (60000, 28, 28)\n",
            "Target matrix: (10000, 28, 28)\n",
            "Feature matrix: (60000,)\n",
            "Target matrix: (10000,)\n"
          ]
        }
      ],
      "source": [
        "print(\"Feature matrix:\", x_train.shape)\n",
        "print(\"Target matrix:\", x_test.shape)\n",
        "print(\"Feature matrix:\", y_train.shape)\n",
        "print(\"Target matrix:\", y_test.shape)\n"
      ]
    },
    {
      "cell_type": "markdown",
      "id": "6b7295c3",
      "metadata": {
        "id": "6b7295c3"
      },
      "source": [
        "- The Sequential model allows to create models layer-by-layer as we need in a multi-layer perceptron and is limited to single-input, single-output stacks of layers.\n",
        "- Flatten flattens the input provided without affecting the batch size. \n",
        "- Activation is for using the sigmoid activation function.\n",
        "- The first two Dense layers are used to make a fully connected model and are the hidden layers.\n",
        "- The last Dense layer is the output layer which contains 10 neurons that decide which category the image belongs to."
      ]
    },
    {
      "cell_type": "code",
      "execution_count": 47,
      "id": "d2f51693",
      "metadata": {
        "id": "d2f51693"
      },
      "outputs": [],
      "source": [
        "# Form the Input, hidden, and output layers\n",
        "\n",
        "model = Sequential([\n",
        "    # reshape 28 row * 28 column data to 28*28 rows\n",
        "    Flatten(input_shape=(28, 28)),\n",
        "    # dense layer 1\n",
        "    Dense(256, activation='sigmoid'),\n",
        "    # dense layer 2\n",
        "    Dense(128, activation='sigmoid'),\n",
        "    # output layer\n",
        "    Dense(10, activation='sigmoid'),\n",
        "])\n"
      ]
    },
    {
      "cell_type": "code",
      "execution_count": 48,
      "id": "63e8cda9",
      "metadata": {
        "id": "63e8cda9"
      },
      "outputs": [],
      "source": [
        "# Compile the model\n",
        "\n",
        "model.compile(optimizer='adam',loss='sparse_categorical_crossentropy',\n",
        "              metrics=['accuracy'])\n"
      ]
    },
    {
      "cell_type": "markdown",
      "id": "6fdb51f0",
      "metadata": {
        "id": "6fdb51f0"
      },
      "source": [
        "- Epochs tell us the number of times the model will be trained in forwarding and backward passes.\n",
        "- Batch Size represents the number of samples, If it’s unspecified, batch_size will default to 32.\n",
        "- Validation Split is a float value between 0 and 1. The model will set apart this fraction of the training data to evaluate the loss and any model metrics at the end of each epoch. (The model will not be trained on this data)"
      ]
    },
    {
      "cell_type": "code",
      "execution_count": 49,
      "id": "8c895ab9",
      "metadata": {
        "colab": {
          "base_uri": "https://localhost:8080/"
        },
        "id": "8c895ab9",
        "outputId": "474c0746-ebc7-4c51-842b-271893cd69d5"
      },
      "outputs": [
        {
          "output_type": "stream",
          "name": "stdout",
          "text": [
            "Epoch 1/10\n",
            "24/24 [==============================] - 2s 51ms/step - loss: 2.0463 - accuracy: 0.4440 - val_loss: 1.6768 - val_accuracy: 0.7194\n",
            "Epoch 2/10\n",
            "24/24 [==============================] - 1s 38ms/step - loss: 1.3378 - accuracy: 0.7301 - val_loss: 0.9854 - val_accuracy: 0.8057\n",
            "Epoch 3/10\n",
            "24/24 [==============================] - 1s 37ms/step - loss: 0.8246 - accuracy: 0.8244 - val_loss: 0.6332 - val_accuracy: 0.8658\n",
            "Epoch 4/10\n",
            "24/24 [==============================] - 1s 37ms/step - loss: 0.5730 - accuracy: 0.8718 - val_loss: 0.4674 - val_accuracy: 0.8937\n",
            "Epoch 5/10\n",
            "24/24 [==============================] - 1s 36ms/step - loss: 0.4484 - accuracy: 0.8918 - val_loss: 0.3841 - val_accuracy: 0.9048\n",
            "Epoch 6/10\n",
            "24/24 [==============================] - 1s 37ms/step - loss: 0.3819 - accuracy: 0.9018 - val_loss: 0.3376 - val_accuracy: 0.9118\n",
            "Epoch 7/10\n",
            "24/24 [==============================] - 1s 37ms/step - loss: 0.3414 - accuracy: 0.9091 - val_loss: 0.3077 - val_accuracy: 0.9179\n",
            "Epoch 8/10\n",
            "24/24 [==============================] - 1s 37ms/step - loss: 0.3131 - accuracy: 0.9144 - val_loss: 0.2862 - val_accuracy: 0.9216\n",
            "Epoch 9/10\n",
            "24/24 [==============================] - 1s 37ms/step - loss: 0.2920 - accuracy: 0.9191 - val_loss: 0.2702 - val_accuracy: 0.9238\n",
            "Epoch 10/10\n",
            "24/24 [==============================] - 1s 37ms/step - loss: 0.2748 - accuracy: 0.9238 - val_loss: 0.2559 - val_accuracy: 0.9283\n"
          ]
        },
        {
          "output_type": "execute_result",
          "data": {
            "text/plain": [
              "<keras.callbacks.History at 0x7f582435dc90>"
            ]
          },
          "metadata": {},
          "execution_count": 49
        }
      ],
      "source": [
        "# Fit the model\n",
        "\n",
        "model.fit(x_train, y_train, epochs=10,\n",
        "          batch_size=2000,\n",
        "          validation_split=0.2)\n"
      ]
    },
    {
      "cell_type": "code",
      "execution_count": 50,
      "id": "bc8bc5a3",
      "metadata": {
        "colab": {
          "base_uri": "https://localhost:8080/"
        },
        "id": "bc8bc5a3",
        "outputId": "0442789a-8ede-45cf-da6c-dff44df810a1"
      },
      "outputs": [
        {
          "output_type": "stream",
          "name": "stdout",
          "text": [
            "test loss, test acc: [0.26247096061706543, 0.9275000095367432]\n"
          ]
        }
      ],
      "source": [
        "# Find Accuracy of the model\n",
        "\n",
        "results = model.evaluate(x_test, y_test, verbose = 0)\n",
        "print('test loss, test acc:', results)\n"
      ]
    },
    {
      "cell_type": "markdown",
      "id": "16c1dd04",
      "metadata": {
        "id": "16c1dd04"
      },
      "source": [
        "# Batch Normalization"
      ]
    },
    {
      "cell_type": "markdown",
      "id": "581b8ce1",
      "metadata": {
        "id": "581b8ce1"
      },
      "source": [
        "In 1998, Yan LeCun in his famous paper Effiecient BackProp highlighted the importance of normalizing the inputs. Batch normalization is a technique for training very deep neural networks that normalizes the contributions to a layer for every mini-batch. This has the impact of settling the learning process and drastically decreasing the number of training epochs required to train deep neural networks.\n"
      ]
    },
    {
      "cell_type": "code",
      "execution_count": 51,
      "id": "8fa99f28",
      "metadata": {
        "id": "8fa99f28"
      },
      "outputs": [],
      "source": [
        "from tensorflow.keras.layers import Dense, BatchNormalization\n",
        "\n",
        "model = Sequential([\n",
        "    Flatten(input_shape=(28, 28)),\n",
        "    # dense layer 1\n",
        "    Dense(256, activation='sigmoid'),\n",
        "    BatchNormalization(),\n",
        "    # dense layer 2\n",
        "    Dense(128, activation='sigmoid'),\n",
        "    BatchNormalization(),\n",
        "    # output layer\n",
        "    Dense(10, activation='sigmoid'),\n",
        "])\n"
      ]
    },
    {
      "cell_type": "markdown",
      "id": "4bcc5378",
      "metadata": {
        "id": "4bcc5378"
      },
      "source": [
        "## Assignment"
      ]
    },
    {
      "cell_type": "markdown",
      "id": "921ad4d2",
      "metadata": {
        "id": "921ad4d2"
      },
      "source": [
        "### Wine dataset\n",
        "\n",
        "These data are the results of a chemical analysis of wines grown in the same region in Italy but derived from three different cultivars. The analysis determined the quantities of 13 constituents found in each of the three types of wines.\n",
        "\n",
        "##### Attribute information\n",
        "- Class: target, the category of cultivator, discrete, values: 1, 2, 3\n",
        "- Alcohol: the alcohol content in the wine, numerical\n",
        "- Malic acid: the malic acid content in the wine, numerical\n",
        "- Ash: the ash content in the wine, numerical\n",
        "- Alcalinity of ash: the alcanity of ash present in the wine, numerical\n",
        "- Magnesium: the magnesium content in the wine, numerical\n",
        "- Total phenols: the total amount of phenols in the wine, numerical\n",
        "- Flavanoids: the flavanoids content in the wine, numerical\n",
        "- Nonflavanoid phenols: the content of nonflavanoid phenols in the wine, numerical\n",
        "- Proanthocyanins: the content of proanthocyanins in the wine, numerical\n",
        "- Hue: the amount of hue added to the wine, numerical\n",
        "- OD280/OD315 of diluted wines: a standard measure of the quality of wine, numerical\n",
        "- Proline: the proline content in the wine, numerical"
      ]
    },
    {
      "cell_type": "markdown",
      "id": "ded1a169",
      "metadata": {
        "id": "ded1a169"
      },
      "source": [
        "##  Question 1\n",
        "- Perform the required preprocessing , 70,30 split and build a classifier using the Multi-Layer Perceptron Classifier model. Use three layers with the same number of neurons as there are features.\n",
        "- Tabulate the accuracy, precision, recall and F1-score.\n",
        "- Display the MLP weights and biases after training your model."
      ]
    },
    {
      "cell_type": "code",
      "source": [
        "data=pd.read_csv('wine.csv')\n",
        "data.head()"
      ],
      "metadata": {
        "colab": {
          "base_uri": "https://localhost:8080/",
          "height": 206
        },
        "id": "QI7LJYXjFhSb",
        "outputId": "408b8df8-7545-4df7-8c46-25bd3fd52893"
      },
      "id": "QI7LJYXjFhSb",
      "execution_count": 22,
      "outputs": [
        {
          "output_type": "execute_result",
          "data": {
            "text/plain": [
              "   Wine  Alcohol  Malic.acid   Ash   Acl   Mg  Phenols  Flavanoids  \\\n",
              "0     1    14.23        1.71  2.43  15.6  127     2.80        3.06   \n",
              "1     1    13.20        1.78  2.14  11.2  100     2.65        2.76   \n",
              "2     1    13.16        2.36  2.67  18.6  101     2.80        3.24   \n",
              "3     1    14.37        1.95  2.50  16.8  113     3.85        3.49   \n",
              "4     1    13.24        2.59  2.87  21.0  118     2.80        2.69   \n",
              "\n",
              "   Nonflavanoid.phenols  Proanth  Color.int   Hue    OD  Proline  \n",
              "0                  0.28     2.29       5.64  1.04  3.92     1065  \n",
              "1                  0.26     1.28       4.38  1.05  3.40     1050  \n",
              "2                  0.30     2.81       5.68  1.03  3.17     1185  \n",
              "3                  0.24     2.18       7.80  0.86  3.45     1480  \n",
              "4                  0.39     1.82       4.32  1.04  2.93      735  "
            ],
            "text/html": [
              "\n",
              "  <div id=\"df-71e330b8-67a5-4986-b1d2-7a7f189d6502\">\n",
              "    <div class=\"colab-df-container\">\n",
              "      <div>\n",
              "<style scoped>\n",
              "    .dataframe tbody tr th:only-of-type {\n",
              "        vertical-align: middle;\n",
              "    }\n",
              "\n",
              "    .dataframe tbody tr th {\n",
              "        vertical-align: top;\n",
              "    }\n",
              "\n",
              "    .dataframe thead th {\n",
              "        text-align: right;\n",
              "    }\n",
              "</style>\n",
              "<table border=\"1\" class=\"dataframe\">\n",
              "  <thead>\n",
              "    <tr style=\"text-align: right;\">\n",
              "      <th></th>\n",
              "      <th>Wine</th>\n",
              "      <th>Alcohol</th>\n",
              "      <th>Malic.acid</th>\n",
              "      <th>Ash</th>\n",
              "      <th>Acl</th>\n",
              "      <th>Mg</th>\n",
              "      <th>Phenols</th>\n",
              "      <th>Flavanoids</th>\n",
              "      <th>Nonflavanoid.phenols</th>\n",
              "      <th>Proanth</th>\n",
              "      <th>Color.int</th>\n",
              "      <th>Hue</th>\n",
              "      <th>OD</th>\n",
              "      <th>Proline</th>\n",
              "    </tr>\n",
              "  </thead>\n",
              "  <tbody>\n",
              "    <tr>\n",
              "      <th>0</th>\n",
              "      <td>1</td>\n",
              "      <td>14.23</td>\n",
              "      <td>1.71</td>\n",
              "      <td>2.43</td>\n",
              "      <td>15.6</td>\n",
              "      <td>127</td>\n",
              "      <td>2.80</td>\n",
              "      <td>3.06</td>\n",
              "      <td>0.28</td>\n",
              "      <td>2.29</td>\n",
              "      <td>5.64</td>\n",
              "      <td>1.04</td>\n",
              "      <td>3.92</td>\n",
              "      <td>1065</td>\n",
              "    </tr>\n",
              "    <tr>\n",
              "      <th>1</th>\n",
              "      <td>1</td>\n",
              "      <td>13.20</td>\n",
              "      <td>1.78</td>\n",
              "      <td>2.14</td>\n",
              "      <td>11.2</td>\n",
              "      <td>100</td>\n",
              "      <td>2.65</td>\n",
              "      <td>2.76</td>\n",
              "      <td>0.26</td>\n",
              "      <td>1.28</td>\n",
              "      <td>4.38</td>\n",
              "      <td>1.05</td>\n",
              "      <td>3.40</td>\n",
              "      <td>1050</td>\n",
              "    </tr>\n",
              "    <tr>\n",
              "      <th>2</th>\n",
              "      <td>1</td>\n",
              "      <td>13.16</td>\n",
              "      <td>2.36</td>\n",
              "      <td>2.67</td>\n",
              "      <td>18.6</td>\n",
              "      <td>101</td>\n",
              "      <td>2.80</td>\n",
              "      <td>3.24</td>\n",
              "      <td>0.30</td>\n",
              "      <td>2.81</td>\n",
              "      <td>5.68</td>\n",
              "      <td>1.03</td>\n",
              "      <td>3.17</td>\n",
              "      <td>1185</td>\n",
              "    </tr>\n",
              "    <tr>\n",
              "      <th>3</th>\n",
              "      <td>1</td>\n",
              "      <td>14.37</td>\n",
              "      <td>1.95</td>\n",
              "      <td>2.50</td>\n",
              "      <td>16.8</td>\n",
              "      <td>113</td>\n",
              "      <td>3.85</td>\n",
              "      <td>3.49</td>\n",
              "      <td>0.24</td>\n",
              "      <td>2.18</td>\n",
              "      <td>7.80</td>\n",
              "      <td>0.86</td>\n",
              "      <td>3.45</td>\n",
              "      <td>1480</td>\n",
              "    </tr>\n",
              "    <tr>\n",
              "      <th>4</th>\n",
              "      <td>1</td>\n",
              "      <td>13.24</td>\n",
              "      <td>2.59</td>\n",
              "      <td>2.87</td>\n",
              "      <td>21.0</td>\n",
              "      <td>118</td>\n",
              "      <td>2.80</td>\n",
              "      <td>2.69</td>\n",
              "      <td>0.39</td>\n",
              "      <td>1.82</td>\n",
              "      <td>4.32</td>\n",
              "      <td>1.04</td>\n",
              "      <td>2.93</td>\n",
              "      <td>735</td>\n",
              "    </tr>\n",
              "  </tbody>\n",
              "</table>\n",
              "</div>\n",
              "      <button class=\"colab-df-convert\" onclick=\"convertToInteractive('df-71e330b8-67a5-4986-b1d2-7a7f189d6502')\"\n",
              "              title=\"Convert this dataframe to an interactive table.\"\n",
              "              style=\"display:none;\">\n",
              "        \n",
              "  <svg xmlns=\"http://www.w3.org/2000/svg\" height=\"24px\"viewBox=\"0 0 24 24\"\n",
              "       width=\"24px\">\n",
              "    <path d=\"M0 0h24v24H0V0z\" fill=\"none\"/>\n",
              "    <path d=\"M18.56 5.44l.94 2.06.94-2.06 2.06-.94-2.06-.94-.94-2.06-.94 2.06-2.06.94zm-11 1L8.5 8.5l.94-2.06 2.06-.94-2.06-.94L8.5 2.5l-.94 2.06-2.06.94zm10 10l.94 2.06.94-2.06 2.06-.94-2.06-.94-.94-2.06-.94 2.06-2.06.94z\"/><path d=\"M17.41 7.96l-1.37-1.37c-.4-.4-.92-.59-1.43-.59-.52 0-1.04.2-1.43.59L10.3 9.45l-7.72 7.72c-.78.78-.78 2.05 0 2.83L4 21.41c.39.39.9.59 1.41.59.51 0 1.02-.2 1.41-.59l7.78-7.78 2.81-2.81c.8-.78.8-2.07 0-2.86zM5.41 20L4 18.59l7.72-7.72 1.47 1.35L5.41 20z\"/>\n",
              "  </svg>\n",
              "      </button>\n",
              "      \n",
              "  <style>\n",
              "    .colab-df-container {\n",
              "      display:flex;\n",
              "      flex-wrap:wrap;\n",
              "      gap: 12px;\n",
              "    }\n",
              "\n",
              "    .colab-df-convert {\n",
              "      background-color: #E8F0FE;\n",
              "      border: none;\n",
              "      border-radius: 50%;\n",
              "      cursor: pointer;\n",
              "      display: none;\n",
              "      fill: #1967D2;\n",
              "      height: 32px;\n",
              "      padding: 0 0 0 0;\n",
              "      width: 32px;\n",
              "    }\n",
              "\n",
              "    .colab-df-convert:hover {\n",
              "      background-color: #E2EBFA;\n",
              "      box-shadow: 0px 1px 2px rgba(60, 64, 67, 0.3), 0px 1px 3px 1px rgba(60, 64, 67, 0.15);\n",
              "      fill: #174EA6;\n",
              "    }\n",
              "\n",
              "    [theme=dark] .colab-df-convert {\n",
              "      background-color: #3B4455;\n",
              "      fill: #D2E3FC;\n",
              "    }\n",
              "\n",
              "    [theme=dark] .colab-df-convert:hover {\n",
              "      background-color: #434B5C;\n",
              "      box-shadow: 0px 1px 3px 1px rgba(0, 0, 0, 0.15);\n",
              "      filter: drop-shadow(0px 1px 2px rgba(0, 0, 0, 0.3));\n",
              "      fill: #FFFFFF;\n",
              "    }\n",
              "  </style>\n",
              "\n",
              "      <script>\n",
              "        const buttonEl =\n",
              "          document.querySelector('#df-71e330b8-67a5-4986-b1d2-7a7f189d6502 button.colab-df-convert');\n",
              "        buttonEl.style.display =\n",
              "          google.colab.kernel.accessAllowed ? 'block' : 'none';\n",
              "\n",
              "        async function convertToInteractive(key) {\n",
              "          const element = document.querySelector('#df-71e330b8-67a5-4986-b1d2-7a7f189d6502');\n",
              "          const dataTable =\n",
              "            await google.colab.kernel.invokeFunction('convertToInteractive',\n",
              "                                                     [key], {});\n",
              "          if (!dataTable) return;\n",
              "\n",
              "          const docLinkHtml = 'Like what you see? Visit the ' +\n",
              "            '<a target=\"_blank\" href=https://colab.research.google.com/notebooks/data_table.ipynb>data table notebook</a>'\n",
              "            + ' to learn more about interactive tables.';\n",
              "          element.innerHTML = '';\n",
              "          dataTable['output_type'] = 'display_data';\n",
              "          await google.colab.output.renderOutput(dataTable, element);\n",
              "          const docLink = document.createElement('div');\n",
              "          docLink.innerHTML = docLinkHtml;\n",
              "          element.appendChild(docLink);\n",
              "        }\n",
              "      </script>\n",
              "    </div>\n",
              "  </div>\n",
              "  "
            ]
          },
          "metadata": {},
          "execution_count": 22
        }
      ]
    },
    {
      "cell_type": "code",
      "source": [
        "# Spliting data into Feature and\n",
        "X=data.drop(['Wine'],axis = 1)\n",
        "y=data['Wine']\n",
        "\n",
        "# Import train_test_split function\n",
        "from sklearn.model_selection import train_test_split\n",
        "\n",
        "# Split dataset into training set and test set\n",
        "X_train, X_test, y_train, y_test = train_test_split(X, y, test_size=0.3, random_state=42)  # 70% training and 30% test\n",
        "print(y_train.shape,y_test.shape,X_test.shape)"
      ],
      "metadata": {
        "colab": {
          "base_uri": "https://localhost:8080/"
        },
        "id": "8Pppz3soGNzj",
        "outputId": "2ffaee37-a1be-4991-872f-f826517015a3"
      },
      "id": "8Pppz3soGNzj",
      "execution_count": 64,
      "outputs": [
        {
          "output_type": "stream",
          "name": "stdout",
          "text": [
            "(124,) (54,) (54, 13)\n"
          ]
        }
      ]
    },
    {
      "cell_type": "code",
      "source": [
        "# Import MLPClassifer \n",
        "from sklearn.neural_network import MLPClassifier\n",
        "\n",
        "# Create model object\n",
        "clf = MLPClassifier(hidden_layer_sizes=(13,13,13),\n",
        "                    random_state=10,\n",
        "                    verbose=True,\n",
        "                    learning_rate_init=0.01)\n",
        "\n",
        "# Fit data onto the model\n",
        "clf.fit(X_train,y_train)"
      ],
      "metadata": {
        "colab": {
          "base_uri": "https://localhost:8080/"
        },
        "id": "tkDsmWYhHLZ7",
        "outputId": "60f5029d-f95b-4bb7-b1a1-b170a87283ac"
      },
      "id": "tkDsmWYhHLZ7",
      "execution_count": 42,
      "outputs": [
        {
          "output_type": "stream",
          "name": "stdout",
          "text": [
            "Iteration 1, loss = 13.98460388\n",
            "Iteration 2, loss = 20.40363432\n",
            "Iteration 3, loss = 11.21614976\n",
            "Iteration 4, loss = 8.61434263\n",
            "Iteration 5, loss = 8.84258105\n",
            "Iteration 6, loss = 11.17543733\n",
            "Iteration 7, loss = 9.74932107\n",
            "Iteration 8, loss = 6.18221314\n",
            "Iteration 9, loss = 3.91079246\n",
            "Iteration 10, loss = 2.55487785\n",
            "Iteration 11, loss = 4.32730158\n",
            "Iteration 12, loss = 5.47823655\n",
            "Iteration 13, loss = 3.25625773\n",
            "Iteration 14, loss = 2.02259784\n",
            "Iteration 15, loss = 1.68679671\n",
            "Iteration 16, loss = 1.82662241\n",
            "Iteration 17, loss = 2.40253417\n",
            "Iteration 18, loss = 2.74598555\n",
            "Iteration 19, loss = 2.33392271\n",
            "Iteration 20, loss = 1.45530223\n",
            "Iteration 21, loss = 0.95307616\n",
            "Iteration 22, loss = 1.15760313\n",
            "Iteration 23, loss = 1.52939308\n",
            "Iteration 24, loss = 1.74670174\n",
            "Iteration 25, loss = 1.69971505\n",
            "Iteration 26, loss = 1.41589569\n",
            "Iteration 27, loss = 1.04739313\n",
            "Iteration 28, loss = 0.82602674\n",
            "Iteration 29, loss = 0.93816650\n",
            "Iteration 30, loss = 1.15874645\n",
            "Iteration 31, loss = 1.17814001\n",
            "Iteration 32, loss = 1.01176378\n",
            "Iteration 33, loss = 0.83328456\n",
            "Iteration 34, loss = 0.74874018\n",
            "Iteration 35, loss = 0.76234191\n",
            "Iteration 36, loss = 0.82905124\n",
            "Iteration 37, loss = 0.81811648\n",
            "Iteration 38, loss = 0.78767246\n",
            "Iteration 39, loss = 0.72568805\n",
            "Iteration 40, loss = 0.67805463\n",
            "Iteration 41, loss = 0.65937871\n",
            "Iteration 42, loss = 0.67760282\n",
            "Iteration 43, loss = 0.69615440\n",
            "Iteration 44, loss = 0.70350534\n",
            "Iteration 45, loss = 0.68908798\n",
            "Iteration 46, loss = 0.66010810\n",
            "Iteration 47, loss = 0.62659046\n",
            "Iteration 48, loss = 0.60373007\n",
            "Iteration 49, loss = 0.59675102\n",
            "Iteration 50, loss = 0.59750716\n",
            "Iteration 51, loss = 0.60312206\n",
            "Iteration 52, loss = 0.60998946\n",
            "Iteration 53, loss = 0.61049069\n",
            "Iteration 54, loss = 0.59780535\n",
            "Iteration 55, loss = 0.57948514\n",
            "Iteration 56, loss = 0.56526109\n",
            "Iteration 57, loss = 0.55964773\n",
            "Iteration 58, loss = 0.56115437\n",
            "Iteration 59, loss = 0.56374550\n",
            "Iteration 60, loss = 0.55839663\n",
            "Iteration 61, loss = 0.54872271\n",
            "Iteration 62, loss = 0.53764623\n",
            "Iteration 63, loss = 0.53225924\n",
            "Iteration 64, loss = 0.52488913\n",
            "Iteration 65, loss = 0.51995677\n",
            "Iteration 66, loss = 0.51052371\n",
            "Iteration 67, loss = 0.50503992\n",
            "Iteration 68, loss = 0.49555509\n",
            "Iteration 69, loss = 0.48519991\n",
            "Iteration 70, loss = 0.47678854\n",
            "Iteration 71, loss = 0.47001975\n",
            "Iteration 72, loss = 0.46032312\n",
            "Iteration 73, loss = 0.45196280\n",
            "Iteration 74, loss = 0.44571694\n",
            "Iteration 75, loss = 0.43920404\n",
            "Iteration 76, loss = 0.43263713\n",
            "Iteration 77, loss = 0.42325179\n",
            "Iteration 78, loss = 0.41592275\n",
            "Iteration 79, loss = 0.40679476\n",
            "Iteration 80, loss = 0.39793785\n",
            "Iteration 81, loss = 0.39062934\n",
            "Iteration 82, loss = 0.38300034\n",
            "Iteration 83, loss = 0.37242914\n",
            "Iteration 84, loss = 0.36450069\n",
            "Iteration 85, loss = 0.34945850\n",
            "Iteration 86, loss = 0.34001333\n",
            "Iteration 87, loss = 0.32387973\n",
            "Iteration 88, loss = 0.32110166\n",
            "Iteration 89, loss = 0.36432908\n",
            "Iteration 90, loss = 0.35767995\n",
            "Iteration 91, loss = 0.29043043\n",
            "Iteration 92, loss = 0.34483094\n",
            "Iteration 93, loss = 0.26621408\n",
            "Iteration 94, loss = 0.31360238\n",
            "Iteration 95, loss = 0.26352542\n",
            "Iteration 96, loss = 0.28577226\n",
            "Iteration 97, loss = 0.25217223\n",
            "Iteration 98, loss = 0.26379087\n",
            "Iteration 99, loss = 0.24354761\n",
            "Iteration 100, loss = 0.24693416\n",
            "Iteration 101, loss = 0.23082191\n",
            "Iteration 102, loss = 0.22715680\n",
            "Iteration 103, loss = 0.22854904\n",
            "Iteration 104, loss = 0.21637160\n",
            "Iteration 105, loss = 0.21687739\n",
            "Iteration 106, loss = 0.20199116\n",
            "Iteration 107, loss = 0.20630393\n",
            "Iteration 108, loss = 0.19374583\n",
            "Iteration 109, loss = 0.19807352\n",
            "Iteration 110, loss = 0.18465429\n",
            "Iteration 111, loss = 0.18818545\n",
            "Iteration 112, loss = 0.17682907\n",
            "Iteration 113, loss = 0.18025321\n",
            "Iteration 114, loss = 0.17233799\n",
            "Iteration 115, loss = 0.16852489\n",
            "Iteration 116, loss = 0.16668049\n",
            "Iteration 117, loss = 0.15748975\n",
            "Iteration 118, loss = 0.15537976\n",
            "Iteration 119, loss = 0.14774079\n",
            "Iteration 120, loss = 0.14033503\n",
            "Iteration 121, loss = 0.13782747\n",
            "Iteration 122, loss = 0.14141290\n",
            "Iteration 123, loss = 0.12968551\n",
            "Iteration 124, loss = 0.12569757\n",
            "Iteration 125, loss = 0.12217042\n",
            "Iteration 126, loss = 0.11966441\n",
            "Iteration 127, loss = 0.11548344\n",
            "Iteration 128, loss = 0.11232023\n",
            "Iteration 129, loss = 0.12067973\n",
            "Iteration 130, loss = 0.12817329\n",
            "Iteration 131, loss = 0.15200960\n",
            "Iteration 132, loss = 0.10295243\n",
            "Iteration 133, loss = 0.14705720\n",
            "Iteration 134, loss = 0.26684106\n",
            "Iteration 135, loss = 0.23771427\n",
            "Iteration 136, loss = 0.15255051\n",
            "Iteration 137, loss = 0.26732483\n",
            "Iteration 138, loss = 0.10341843\n",
            "Iteration 139, loss = 0.24631459\n",
            "Iteration 140, loss = 0.16929890\n",
            "Iteration 141, loss = 0.19656777\n",
            "Iteration 142, loss = 0.40196498\n",
            "Iteration 143, loss = 0.16015949\n",
            "Training loss did not improve more than tol=0.000100 for 10 consecutive epochs. Stopping.\n"
          ]
        },
        {
          "output_type": "execute_result",
          "data": {
            "text/plain": [
              "MLPClassifier(hidden_layer_sizes=(13, 13, 13), learning_rate_init=0.01,\n",
              "              random_state=10, verbose=True)"
            ]
          },
          "metadata": {},
          "execution_count": 42
        }
      ]
    },
    {
      "cell_type": "code",
      "source": [
        "# Make prediction on test dataset\n",
        "ypred=clf.predict(X_test)\n",
        "\n",
        "# Import accuracy score \n",
        "from sklearn.metrics import accuracy_score\n",
        "\n",
        "# Calcuate accuracy\n",
        "accuracy_score(y_test,ypred)"
      ],
      "metadata": {
        "colab": {
          "base_uri": "https://localhost:8080/"
        },
        "id": "b5xnlcQRITur",
        "outputId": "edf7217d-df87-402f-8d07-697df8e6bfbd"
      },
      "id": "b5xnlcQRITur",
      "execution_count": 43,
      "outputs": [
        {
          "output_type": "execute_result",
          "data": {
            "text/plain": [
              "0.8333333333333334"
            ]
          },
          "metadata": {},
          "execution_count": 43
        }
      ]
    },
    {
      "cell_type": "code",
      "source": [
        " from sklearn.metrics import f1_score\n",
        " from sklearn.metrics import recall_score\n",
        " from sklearn.metrics import precision_score\n",
        " print('f1 score:', f1_score(y_test,ypred,average='macro'))\n",
        " print('Recall score:', recall_score(y_test,ypred,average='macro'))\n",
        " print('Precision score:', precision_score(y_test,ypred,average='macro'))"
      ],
      "metadata": {
        "colab": {
          "base_uri": "https://localhost:8080/"
        },
        "id": "XTDs0_oeJfBr",
        "outputId": "0325fd0e-90f7-441b-d42e-2ef062cabeb2"
      },
      "id": "XTDs0_oeJfBr",
      "execution_count": 76,
      "outputs": [
        {
          "output_type": "stream",
          "name": "stdout",
          "text": [
            "f1 score: 0.8452611218568666\n",
            "Recall score: 0.8571428571428571\n",
            "Precision score: 0.8928571428571429\n"
          ]
        }
      ]
    },
    {
      "cell_type": "code",
      "source": [
        "#weights associated with each layer\n",
        "\n",
        "clf.coefs_"
      ],
      "metadata": {
        "colab": {
          "base_uri": "https://localhost:8080/"
        },
        "id": "dZ8bpHPqMYKq",
        "outputId": "36d7d720-e495-4a7a-bedf-41d6bfba62c5"
      },
      "id": "dZ8bpHPqMYKq",
      "execution_count": 78,
      "outputs": [
        {
          "output_type": "execute_result",
          "data": {
            "text/plain": [
              "[array([[ 2.82951173e-01, -5.02209494e-01,  3.11955922e-02,\n",
              "          1.77920689e-01, -3.91210395e-02, -9.98055312e-02,\n",
              "         -4.22272027e-02,  1.13293466e-02, -4.14824769e-01,\n",
              "         -4.28833995e-01, -4.26303938e-02,  7.43752632e-02,\n",
              "         -5.82000675e-01],\n",
              "        [-1.19825184e-01,  2.24627553e-01,  6.46196649e-01,\n",
              "          1.64973066e-01, -1.90510179e-01, -9.25479271e-02,\n",
              "         -1.03314521e-03, -6.52251428e-02, -2.45350901e-01,\n",
              "         -1.33938495e-01, -4.73649774e-02, -3.52658881e-01,\n",
              "         -3.52402339e-01],\n",
              "        [ 1.32565238e-01, -2.88112193e-02,  9.03433742e-02,\n",
              "          3.99139765e-02,  2.00259470e-01, -9.32559746e-02,\n",
              "         -6.97964310e-03, -8.93346409e-02, -4.91631693e-01,\n",
              "         -2.14297765e-01, -2.01415564e-01,  3.42919656e-02,\n",
              "         -5.19285480e-01],\n",
              "        [ 2.04158253e-01,  1.19094085e-02, -3.21470130e-01,\n",
              "         -3.44547097e-01,  2.48443941e-01, -1.01403789e-01,\n",
              "         -4.96104097e-02, -1.04675698e-01,  2.16780469e-01,\n",
              "         -1.81681732e-01, -1.64997333e-01,  3.33173394e-02,\n",
              "         -5.76143899e-01],\n",
              "        [ 3.27635192e-01, -3.73893862e-01,  9.38377211e-02,\n",
              "          3.58767601e-01,  3.68068514e-01, -1.01416381e-01,\n",
              "         -9.32080690e-02, -1.31311631e-01,  4.99128229e-03,\n",
              "          3.33507790e-01, -6.61979064e-02, -3.64042581e-02,\n",
              "         -5.37280577e-01],\n",
              "        [-6.74682054e-02, -4.26803423e-01, -1.04193165e-01,\n",
              "         -2.30481611e-01,  1.71646941e-01, -9.22847253e-02,\n",
              "          3.09121106e-03, -9.16044397e-02, -6.23881515e-02,\n",
              "         -1.95599841e-01, -2.55487121e-01,  5.17586117e-01,\n",
              "          5.71608547e-01],\n",
              "        [ 4.88735087e-01, -7.35443605e-02, -3.65920656e-01,\n",
              "         -5.06254288e-02,  2.40511402e-02, -9.36471334e-02,\n",
              "         -2.23985849e-03, -2.87923422e-01, -5.09896085e-01,\n",
              "         -3.02788595e-01, -6.73522706e-02,  9.61945088e-01,\n",
              "          8.08407521e-01],\n",
              "        [-1.34745466e-01, -4.73632344e-01,  4.26321980e-01,\n",
              "         -2.17758247e-01, -4.27767358e-02, -4.76247740e-02,\n",
              "          1.25451593e-03, -6.41922550e-02, -1.17677868e-01,\n",
              "          1.13270271e-01,  5.53345611e-02,  4.08641297e-01,\n",
              "         -3.60953065e-01],\n",
              "        [ 4.10176070e-01,  1.97682642e-01, -3.69783345e-01,\n",
              "         -5.25368479e-01, -1.43827985e-01, -8.57040921e-02,\n",
              "          1.41083616e-05, -6.24153548e-02, -1.17191716e-01,\n",
              "         -3.24867373e-01, -2.49555871e-01,  7.43090126e-01,\n",
              "         -3.22097971e-02],\n",
              "        [-5.00790504e-01,  2.62007205e-01,  7.26398227e-01,\n",
              "         -2.94461656e-01,  1.55599481e-01, -8.63691506e-02,\n",
              "         -1.22583004e-02, -5.82262630e-02,  2.86055527e-01,\n",
              "         -3.50947749e-01, -1.52174916e-01, -5.15031605e-01,\n",
              "         -8.85778580e-01],\n",
              "        [-8.73661824e-02,  3.33110551e-02, -4.71678846e-01,\n",
              "         -1.91755293e-01,  2.97096538e-01, -9.01298075e-02,\n",
              "          4.04953856e-03, -6.26550556e-02, -7.42180641e-01,\n",
              "          4.24357702e-01, -6.78835287e-02,  6.41178301e-01,\n",
              "          2.67538730e-01],\n",
              "        [ 4.99654136e-01,  7.60926406e-02, -4.29131623e-01,\n",
              "         -4.10186849e-01, -8.79194577e-02, -9.49385518e-02,\n",
              "         -9.37877555e-03, -5.68294253e-02, -6.08594239e-01,\n",
              "         -1.69583670e-02,  3.28165585e-02,  7.01451504e-01,\n",
              "          7.40977507e-01],\n",
              "        [ 6.24548642e-02,  3.57470138e-02,  1.79766097e-02,\n",
              "         -1.41897907e-01, -1.89406885e-01, -1.01859641e-01,\n",
              "         -1.00982250e-01, -5.84657810e-02,  1.61861240e-01,\n",
              "          3.84073808e-02, -5.71809396e-02,  2.12965789e-02,\n",
              "          2.04031845e-01]]),\n",
              " array([[-3.23644873e-01, -4.95884909e-01,  3.25313737e-01,\n",
              "          2.86320521e-01, -9.64453963e-02, -2.36888999e-01,\n",
              "         -1.02425194e-01, -8.04994043e-02, -4.22464933e-01,\n",
              "          1.14620511e-01, -4.09396918e-01, -2.92418702e-01,\n",
              "          3.90522370e-02],\n",
              "        [-1.09248836e-01,  6.88407480e-02,  2.33062843e-01,\n",
              "         -1.60541733e-01, -1.10930884e-04,  1.95743882e-01,\n",
              "         -1.32962443e-03, -5.95255690e-05,  2.61632339e-01,\n",
              "         -2.18493014e-01, -1.42778392e-01,  2.27678741e-01,\n",
              "         -2.61423782e-01],\n",
              "        [ 2.88452344e-01,  6.14821601e-05,  6.96479231e-02,\n",
              "         -1.12989791e-01, -8.78388065e-02,  3.61324811e-01,\n",
              "         -7.46306384e-02, -7.80207924e-02,  9.27068715e-04,\n",
              "          1.90563918e-01,  3.60812757e-01, -2.54907511e-01,\n",
              "         -1.61504031e-01],\n",
              "        [ 2.52207250e-01,  1.99979229e-05, -4.00805975e-01,\n",
              "          4.20806717e-01, -3.17985146e-05, -5.61814597e-01,\n",
              "          3.19819999e-04,  1.60183823e-04,  3.11283954e-01,\n",
              "         -2.27477608e-01,  1.35726074e-01,  4.76569259e-01,\n",
              "         -1.35621943e-05],\n",
              "        [ 7.85496537e-02, -2.05672619e-04, -8.46620161e-05,\n",
              "         -7.55937800e-02,  6.59481322e-06,  3.05580054e-01,\n",
              "          1.47514929e-04, -5.17797798e-05,  1.88287047e-04,\n",
              "          5.29664406e-02, -3.01686859e-04,  2.24140262e-01,\n",
              "         -3.32558128e-05],\n",
              "        [ 1.02694764e-01, -1.04004530e-03, -1.01132397e-01,\n",
              "         -1.01347137e-01, -8.33166788e-05, -9.62412691e-02,\n",
              "          8.56619073e-05,  3.23044276e-04,  1.66170798e-04,\n",
              "          1.00339156e-01,  9.31426067e-02,  9.50955344e-02,\n",
              "         -8.40064374e-02],\n",
              "        [ 2.04375842e-02, -2.04367213e-04,  1.86036268e-05,\n",
              "         -3.02716069e-02, -8.18931404e-05,  5.93619414e-03,\n",
              "          6.85601860e-04, -6.77829363e-04,  3.13118051e-04,\n",
              "          3.39928251e-04,  6.89512664e-02, -1.64061486e-04,\n",
              "         -2.05719358e-02],\n",
              "        [-1.94389274e-01, -1.35245473e-04, -8.55685576e-05,\n",
              "          1.22763049e-02,  7.46396209e-05, -4.29109293e-02,\n",
              "          1.05117926e-03, -2.20598722e-05,  2.03129629e-06,\n",
              "          1.65746334e-05,  1.39150487e-01,  5.83080603e-02,\n",
              "         -5.26414409e-05],\n",
              "        [ 3.69284344e-01, -4.54294202e-01, -1.27166770e-01,\n",
              "         -3.06340765e-01, -9.65333700e-02,  1.20511699e-01,\n",
              "         -7.77468860e-02, -8.45671689e-02,  3.21457821e-01,\n",
              "          2.89073586e-01,  8.99717361e-02,  1.33776670e-01,\n",
              "          7.86327475e-02],\n",
              "        [-2.23520959e-01,  1.00771573e-01, -3.25493462e-01,\n",
              "          3.31950686e-01, -9.68107311e-02,  8.82946063e-02,\n",
              "         -8.58531312e-02, -1.14911354e-01, -4.12660129e-02,\n",
              "         -5.00950272e-02,  1.60626809e-01, -2.69584889e-01,\n",
              "         -3.00947936e-02],\n",
              "        [ 1.37441152e-01,  7.47280282e-04, -8.07206264e-04,\n",
              "          1.36355674e-01, -3.18870921e-05, -1.16129606e-01,\n",
              "         -2.79412171e-05,  9.70742837e-04,  2.32866820e-04,\n",
              "         -1.37852432e-01, -5.84109321e-02, -3.64744225e-02,\n",
              "          5.40221027e-04],\n",
              "        [-2.98670653e-02,  6.21976407e-06,  1.59003750e-01,\n",
              "          2.49703941e-01, -9.60270129e-02, -1.14274174e-01,\n",
              "          3.55479832e-05,  1.65826999e-04, -1.65837053e-04,\n",
              "         -3.91822573e-02,  1.14626749e-01,  8.89054489e-02,\n",
              "          1.65014677e-02],\n",
              "        [ 1.08429623e-01,  2.79536929e-01, -2.23826452e-02,\n",
              "          1.60715832e-01, -9.69621978e-02,  2.35506443e-01,\n",
              "         -8.68948259e-02, -8.45790568e-02, -2.01129830e-01,\n",
              "         -4.62726321e-01,  1.65685123e-01,  3.84316522e-01,\n",
              "          5.76949410e-02]]),\n",
              " array([[-3.17280112e-01, -2.68008238e-01,  2.67765211e-01,\n",
              "         -3.68785888e-01,  9.81702357e-03,  1.08666975e-01,\n",
              "         -1.93294669e-01,  1.97270274e-02, -5.16732878e-06,\n",
              "         -2.34128959e-01, -1.05915195e-01,  1.91647709e-01,\n",
              "         -3.01703568e-01],\n",
              "        [-4.52716133e-05,  7.99407640e-04,  8.75587585e-02,\n",
              "          4.54533405e-02, -2.90006210e-01,  7.53711866e-05,\n",
              "          2.32419060e-01,  2.63920276e-01,  7.28296418e-05,\n",
              "          4.07865564e-04, -3.47583825e-01, -1.61392326e-02,\n",
              "         -3.50964151e-04],\n",
              "        [-1.30449681e-01, -6.43607716e-01, -3.89638527e-01,\n",
              "         -4.16209391e-01, -3.83613725e-01,  4.48708278e-01,\n",
              "         -2.11305621e-01,  2.30415546e-01,  9.67129248e-02,\n",
              "          4.82097114e-01, -1.70983624e-01,  3.49924652e-01,\n",
              "          8.53191232e-01],\n",
              "        [ 3.67442337e-01,  1.45072075e-01, -2.85483358e-02,\n",
              "         -4.33281926e-03, -8.08899879e-03,  8.85648605e-02,\n",
              "          3.52050925e-01,  3.98278636e-01, -1.86008134e-01,\n",
              "          2.73879191e-01,  1.55967253e-01,  3.08315133e-03,\n",
              "          2.29758493e-01],\n",
              "        [-9.13899331e-02,  8.55215343e-02, -9.56547789e-02,\n",
              "          6.37465107e-02,  9.02550665e-02, -8.96261931e-02,\n",
              "          9.81739694e-02,  7.64351557e-02,  2.83948990e-04,\n",
              "          9.37834529e-02, -8.27453296e-02, -9.26336577e-02,\n",
              "          3.86654505e-05],\n",
              "        [ 2.23453283e-01, -1.24129018e-01,  4.81483174e-01,\n",
              "          2.49112396e-01,  3.97021733e-01, -5.56192063e-03,\n",
              "          4.52351708e-01,  1.43448815e-01, -3.95411552e-01,\n",
              "         -4.93966473e-03,  3.20041820e-01, -2.43651176e-02,\n",
              "         -4.80262158e-01],\n",
              "        [-7.15143334e-02,  3.57110224e-02,  8.07058858e-02,\n",
              "         -6.09126467e-02, -7.62307458e-02, -8.49753275e-02,\n",
              "          8.59864488e-02, -7.61819942e-02, -1.22154744e-05,\n",
              "          3.50874300e-04, -1.00079145e-01,  8.38446001e-02,\n",
              "          5.83546474e-05],\n",
              "        [-3.44799647e-04, -8.23058096e-02, -3.44878503e-02,\n",
              "          7.64662504e-02, -7.31550609e-02,  7.24065223e-02,\n",
              "          6.96672003e-02,  4.74914707e-02, -4.09971318e-04,\n",
              "         -1.82372276e-04, -7.37873955e-02, -8.12965899e-02,\n",
              "          1.24755970e-01],\n",
              "        [ 1.62090272e-04, -4.84254197e-04,  3.54494633e-01,\n",
              "          2.77520583e-01,  3.57287435e-01, -4.15271281e-01,\n",
              "          2.25913066e-01,  2.92248363e-01,  3.50920316e-04,\n",
              "         -1.66356877e-04, -1.41118020e-01, -3.41265555e-02,\n",
              "          2.61028523e-06],\n",
              "        [-4.26449754e-01,  4.31350565e-01,  3.30985655e-01,\n",
              "          3.56957518e-01,  4.07345734e-02, -1.02244913e-01,\n",
              "         -1.71817200e-01, -1.40625927e-01, -4.67973654e-02,\n",
              "         -2.04825969e-01, -4.05882339e-01, -3.51424655e-01,\n",
              "         -1.25502640e-01],\n",
              "        [-3.17610779e-01, -1.45057784e-01,  2.87926053e-01,\n",
              "         -4.48109242e-01,  1.84937076e-02, -1.35512744e-01,\n",
              "         -4.08501126e-01, -4.72126533e-01,  2.76631764e-05,\n",
              "          4.39854258e-01,  3.57391141e-02,  3.47249879e-01,\n",
              "         -2.53139260e-01],\n",
              "        [-4.42440983e-01, -4.59578623e-01, -3.50020855e-01,\n",
              "          2.29748227e-01,  3.06627444e-01, -5.80855899e-01,\n",
              "          3.05921392e-01,  3.19988157e-01, -3.93996773e-05,\n",
              "          1.57620294e-01,  3.58261819e-01,  1.55442407e-01,\n",
              "          2.69053995e-01],\n",
              "        [ 9.97373276e-02, -7.54802067e-02,  3.21182552e-02,\n",
              "         -5.21007138e-02, -1.39625412e-01, -3.76352476e-02,\n",
              "          5.84637896e-02, -1.05234768e-01,  7.23296888e-05,\n",
              "         -4.93301044e-03, -8.77467621e-02, -3.66109030e-02,\n",
              "          1.13100617e-01]]),\n",
              " array([[ 0.48824537, -0.31605698, -0.84436811],\n",
              "        [-0.59491795,  0.33150028,  0.64490569],\n",
              "        [-0.00231031, -0.33717016,  0.55668459],\n",
              "        [ 0.18664804,  0.2881592 ,  0.17540812],\n",
              "        [ 0.35266355, -0.21818134, -0.42427375],\n",
              "        [ 0.39282151, -0.36350853, -0.92814717],\n",
              "        [-0.4358116 ,  0.50483075, -0.17338756],\n",
              "        [-0.33569028, -0.34724348, -0.40405754],\n",
              "        [-0.2219877 ,  0.17718938, -0.00582464],\n",
              "        [ 0.66747704,  0.30075678, -0.6969106 ],\n",
              "        [ 0.4622468 ,  0.14918653,  0.34617759],\n",
              "        [-0.01329741, -0.12552359,  0.26035617],\n",
              "        [-1.07400708,  0.25808455, -0.55982457]])]"
            ]
          },
          "metadata": {},
          "execution_count": 78
        }
      ]
    },
    {
      "cell_type": "code",
      "source": [
        "#bias associated with each layer\n",
        "clf.intercepts_"
      ],
      "metadata": {
        "colab": {
          "base_uri": "https://localhost:8080/"
        },
        "id": "R3apMZWYNzBq",
        "outputId": "8ec46bff-5f2c-4492-93fb-3e16f6437bdb"
      },
      "id": "R3apMZWYNzBq",
      "execution_count": 79,
      "outputs": [
        {
          "output_type": "execute_result",
          "data": {
            "text/plain": [
              "[array([ 0.15437512,  0.23560351,  0.22537138,  0.03543738,  0.23069524,\n",
              "         0.01188985, -0.49484326,  0.1771245 , -0.44746106, -0.06628025,\n",
              "        -0.04825229,  0.10393953,  0.20784058]),\n",
              " array([ 0.26894107, -0.33256238,  0.43500029, -0.35510125, -0.35896275,\n",
              "        -0.58496762,  0.30589053,  0.30841391,  0.07234409, -0.47496842,\n",
              "        -0.408839  ,  0.27615675,  0.48753556]),\n",
              " array([ 0.07295129, -0.16206363, -0.43401275,  0.10518668, -0.37905732,\n",
              "        -0.37269249,  0.58091988, -0.37821792, -0.24705015, -0.51319459,\n",
              "        -0.26450876, -0.3544096 ,  0.05143585]),\n",
              " array([-0.07275929, -0.16168905,  0.38638631])]"
            ]
          },
          "metadata": {},
          "execution_count": 79
        }
      ]
    },
    {
      "cell_type": "code",
      "source": [],
      "metadata": {
        "id": "udKtHrbxN7-j"
      },
      "id": "udKtHrbxN7-j",
      "execution_count": null,
      "outputs": []
    },
    {
      "cell_type": "markdown",
      "id": "868aed60",
      "metadata": {
        "id": "868aed60"
      },
      "source": [
        "###  The CIFAR-10 dataset\n",
        "\n",
        "The CIFAR-10 dataset consists of 60000 32x32 colour images in 10 classes, with 6000 images per class. There are 50000 training images and 10000 test images."
      ]
    },
    {
      "cell_type": "markdown",
      "id": "3ecd4545",
      "metadata": {
        "id": "3ecd4545"
      },
      "source": [
        "##  Question 2\n",
        "\n",
        "- Using CIFAR-10 dataset, build a Multi-Layer Perceptron Classifier model both with and without batch normalization.\n",
        "- Tabulate the accuracy, precision, recall and F1-score.\n"
      ]
    },
    {
      "cell_type": "code",
      "execution_count": null,
      "id": "e8347088",
      "metadata": {
        "id": "e8347088"
      },
      "outputs": [],
      "source": []
    }
  ],
  "metadata": {
    "kernelspec": {
      "display_name": "Python 3",
      "language": "python",
      "name": "python3"
    },
    "language_info": {
      "codemirror_mode": {
        "name": "ipython",
        "version": 3
      },
      "file_extension": ".py",
      "mimetype": "text/x-python",
      "name": "python",
      "nbconvert_exporter": "python",
      "pygments_lexer": "ipython3",
      "version": "3.8.8"
    },
    "colab": {
      "provenance": []
    }
  },
  "nbformat": 4,
  "nbformat_minor": 5
}